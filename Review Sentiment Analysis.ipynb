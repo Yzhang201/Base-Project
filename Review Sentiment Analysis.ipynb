{
 "cells": [
  {
   "cell_type": "markdown",
   "id": "df343b80",
   "metadata": {},
   "source": [
    "# Libraries"
   ]
  },
  {
   "cell_type": "code",
   "execution_count": 42,
   "id": "2b694ea0",
   "metadata": {},
   "outputs": [],
   "source": [
    "# Import Necessary Libraries\n",
    "\n",
    "import pandas as pd\n",
    "import numpy as np\n",
    "import matplotlib.pyplot as plt\n",
    "import seaborn as sns\n",
    "import nltk\n",
    "from nltk.corpus import stopwords\n",
    "from nltk.tokenize import word_tokenize"
   ]
  },
  {
   "cell_type": "markdown",
   "id": "18cf1b66",
   "metadata": {},
   "source": [
    "### Data Preparation & Preprocessing"
   ]
  },
  {
   "cell_type": "code",
   "execution_count": 43,
   "id": "e12d3844",
   "metadata": {},
   "outputs": [
    {
     "name": "stdout",
     "output_type": "stream",
     "text": [
      "(568454, 10)\n",
      "(5000, 10)\n"
     ]
    }
   ],
   "source": [
    "# Load Dataset \n",
    "\n",
    "df = pd.read_csv('C:/Users/Leo/Downloads/Reviews.csv')\n",
    "print(df.shape)\n",
    "df = df.head(5000)\n",
    "print(df.shape)"
   ]
  },
  {
   "cell_type": "code",
   "execution_count": 44,
   "id": "7282acfb",
   "metadata": {},
   "outputs": [
    {
     "data": {
      "text/html": [
       "<div>\n",
       "<style scoped>\n",
       "    .dataframe tbody tr th:only-of-type {\n",
       "        vertical-align: middle;\n",
       "    }\n",
       "\n",
       "    .dataframe tbody tr th {\n",
       "        vertical-align: top;\n",
       "    }\n",
       "\n",
       "    .dataframe thead th {\n",
       "        text-align: right;\n",
       "    }\n",
       "</style>\n",
       "<table border=\"1\" class=\"dataframe\">\n",
       "  <thead>\n",
       "    <tr style=\"text-align: right;\">\n",
       "      <th></th>\n",
       "      <th>Id</th>\n",
       "      <th>ProductId</th>\n",
       "      <th>UserId</th>\n",
       "      <th>ProfileName</th>\n",
       "      <th>HelpfulnessNumerator</th>\n",
       "      <th>HelpfulnessDenominator</th>\n",
       "      <th>Score</th>\n",
       "      <th>Time</th>\n",
       "      <th>Summary</th>\n",
       "      <th>Text</th>\n",
       "    </tr>\n",
       "  </thead>\n",
       "  <tbody>\n",
       "    <tr>\n",
       "      <th>0</th>\n",
       "      <td>1</td>\n",
       "      <td>B001E4KFG0</td>\n",
       "      <td>A3SGXH7AUHU8GW</td>\n",
       "      <td>delmartian</td>\n",
       "      <td>1</td>\n",
       "      <td>1</td>\n",
       "      <td>5</td>\n",
       "      <td>1303862400</td>\n",
       "      <td>Good Quality Dog Food</td>\n",
       "      <td>I have bought several of the Vitality canned d...</td>\n",
       "    </tr>\n",
       "    <tr>\n",
       "      <th>1</th>\n",
       "      <td>2</td>\n",
       "      <td>B00813GRG4</td>\n",
       "      <td>A1D87F6ZCVE5NK</td>\n",
       "      <td>dll pa</td>\n",
       "      <td>0</td>\n",
       "      <td>0</td>\n",
       "      <td>1</td>\n",
       "      <td>1346976000</td>\n",
       "      <td>Not as Advertised</td>\n",
       "      <td>Product arrived labeled as Jumbo Salted Peanut...</td>\n",
       "    </tr>\n",
       "    <tr>\n",
       "      <th>2</th>\n",
       "      <td>3</td>\n",
       "      <td>B000LQOCH0</td>\n",
       "      <td>ABXLMWJIXXAIN</td>\n",
       "      <td>Natalia Corres \"Natalia Corres\"</td>\n",
       "      <td>1</td>\n",
       "      <td>1</td>\n",
       "      <td>4</td>\n",
       "      <td>1219017600</td>\n",
       "      <td>\"Delight\" says it all</td>\n",
       "      <td>This is a confection that has been around a fe...</td>\n",
       "    </tr>\n",
       "    <tr>\n",
       "      <th>3</th>\n",
       "      <td>4</td>\n",
       "      <td>B000UA0QIQ</td>\n",
       "      <td>A395BORC6FGVXV</td>\n",
       "      <td>Karl</td>\n",
       "      <td>3</td>\n",
       "      <td>3</td>\n",
       "      <td>2</td>\n",
       "      <td>1307923200</td>\n",
       "      <td>Cough Medicine</td>\n",
       "      <td>If you are looking for the secret ingredient i...</td>\n",
       "    </tr>\n",
       "    <tr>\n",
       "      <th>4</th>\n",
       "      <td>5</td>\n",
       "      <td>B006K2ZZ7K</td>\n",
       "      <td>A1UQRSCLF8GW1T</td>\n",
       "      <td>Michael D. Bigham \"M. Wassir\"</td>\n",
       "      <td>0</td>\n",
       "      <td>0</td>\n",
       "      <td>5</td>\n",
       "      <td>1350777600</td>\n",
       "      <td>Great taffy</td>\n",
       "      <td>Great taffy at a great price.  There was a wid...</td>\n",
       "    </tr>\n",
       "  </tbody>\n",
       "</table>\n",
       "</div>"
      ],
      "text/plain": [
       "   Id   ProductId          UserId                      ProfileName  \\\n",
       "0   1  B001E4KFG0  A3SGXH7AUHU8GW                       delmartian   \n",
       "1   2  B00813GRG4  A1D87F6ZCVE5NK                           dll pa   \n",
       "2   3  B000LQOCH0   ABXLMWJIXXAIN  Natalia Corres \"Natalia Corres\"   \n",
       "3   4  B000UA0QIQ  A395BORC6FGVXV                             Karl   \n",
       "4   5  B006K2ZZ7K  A1UQRSCLF8GW1T    Michael D. Bigham \"M. Wassir\"   \n",
       "\n",
       "   HelpfulnessNumerator  HelpfulnessDenominator  Score        Time  \\\n",
       "0                     1                       1      5  1303862400   \n",
       "1                     0                       0      1  1346976000   \n",
       "2                     1                       1      4  1219017600   \n",
       "3                     3                       3      2  1307923200   \n",
       "4                     0                       0      5  1350777600   \n",
       "\n",
       "                 Summary                                               Text  \n",
       "0  Good Quality Dog Food  I have bought several of the Vitality canned d...  \n",
       "1      Not as Advertised  Product arrived labeled as Jumbo Salted Peanut...  \n",
       "2  \"Delight\" says it all  This is a confection that has been around a fe...  \n",
       "3         Cough Medicine  If you are looking for the secret ingredient i...  \n",
       "4            Great taffy  Great taffy at a great price.  There was a wid...  "
      ]
     },
     "execution_count": 44,
     "metadata": {},
     "output_type": "execute_result"
    }
   ],
   "source": [
    "# Check Dataset Structure\n",
    "\n",
    "df.head()"
   ]
  },
  {
   "cell_type": "code",
   "execution_count": 45,
   "id": "da51b33b",
   "metadata": {},
   "outputs": [
    {
     "name": "stdout",
     "output_type": "stream",
     "text": [
      "Dataset Info:\n",
      "<class 'pandas.core.frame.DataFrame'>\n",
      "RangeIndex: 5000 entries, 0 to 4999\n",
      "Data columns (total 10 columns):\n",
      " #   Column                  Non-Null Count  Dtype \n",
      "---  ------                  --------------  ----- \n",
      " 0   Id                      5000 non-null   int64 \n",
      " 1   ProductId               5000 non-null   object\n",
      " 2   UserId                  5000 non-null   object\n",
      " 3   ProfileName             5000 non-null   object\n",
      " 4   HelpfulnessNumerator    5000 non-null   int64 \n",
      " 5   HelpfulnessDenominator  5000 non-null   int64 \n",
      " 6   Score                   5000 non-null   int64 \n",
      " 7   Time                    5000 non-null   int64 \n",
      " 8   Summary                 5000 non-null   object\n",
      " 9   Text                    5000 non-null   object\n",
      "dtypes: int64(5), object(5)\n",
      "memory usage: 390.8+ KB\n",
      "None\n"
     ]
    }
   ],
   "source": [
    "# Basic Dataset Information\n",
    "\n",
    "print(\"Dataset Info:\")\n",
    "print(df.info())"
   ]
  },
  {
   "cell_type": "code",
   "execution_count": 46,
   "id": "c027e496",
   "metadata": {},
   "outputs": [
    {
     "name": "stdout",
     "output_type": "stream",
     "text": [
      "\n",
      "Missing Values:\n",
      "Id                        0\n",
      "ProductId                 0\n",
      "UserId                    0\n",
      "ProfileName               0\n",
      "HelpfulnessNumerator      0\n",
      "HelpfulnessDenominator    0\n",
      "Score                     0\n",
      "Time                      0\n",
      "Summary                   0\n",
      "Text                      0\n",
      "dtype: int64\n"
     ]
    }
   ],
   "source": [
    "# Check for Missing Values\n",
    "\n",
    "print(\"\\nMissing Values:\")\n",
    "print(df.isnull().sum())"
   ]
  },
  {
   "cell_type": "code",
   "execution_count": 47,
   "id": "16eac9ff",
   "metadata": {},
   "outputs": [
    {
     "name": "stdout",
     "output_type": "stream",
     "text": [
      "\n",
      "Summary Statistics:\n",
      "                Id  HelpfulnessNumerator  HelpfulnessDenominator        Score  \\\n",
      "count  5000.000000           5000.000000             5000.000000  5000.000000   \n",
      "mean   2500.500000              1.580200                2.067200     4.150400   \n",
      "std    1443.520003              5.584533                6.288672     1.326549   \n",
      "min       1.000000              0.000000                0.000000     1.000000   \n",
      "25%    1250.750000              0.000000                0.000000     4.000000   \n",
      "50%    2500.500000              0.000000                1.000000     5.000000   \n",
      "75%    3750.250000              2.000000                2.000000     5.000000   \n",
      "max    5000.000000            187.000000              216.000000     5.000000   \n",
      "\n",
      "               Time  \n",
      "count  5.000000e+03  \n",
      "mean   1.294930e+09  \n",
      "std    4.802063e+07  \n",
      "min    9.617184e+08  \n",
      "25%    1.271376e+09  \n",
      "50%    1.309219e+09  \n",
      "75%    1.330301e+09  \n",
      "max    1.351210e+09  \n"
     ]
    }
   ],
   "source": [
    "# Summary Statistics of Numeric Features\n",
    "\n",
    "print(\"\\nSummary Statistics:\")\n",
    "print(df.describe())"
   ]
  },
  {
   "cell_type": "code",
   "execution_count": 48,
   "id": "0d7726a8",
   "metadata": {},
   "outputs": [
    {
     "name": "stdout",
     "output_type": "stream",
     "text": [
      "\n",
      "Sentiment Distribution:\n"
     ]
    },
    {
     "data": {
      "image/png": "[encoded data removed]",
      "text/plain": [
       "<Figure size 432x288 with 1 Axes>"
      ]
     },
     "metadata": {
      "needs_background": "light"
     },
     "output_type": "display_data"
    }
   ],
   "source": [
    "# Histogram Distribution of Score Sentiment\n",
    "\n",
    "print(\"\\nSentiment Distribution:\")\n",
    "sns.countplot(data=df, x='Score')\n",
    "plt.title('Sentiment Distribution by Score')\n",
    "plt.show()"
   ]
  },
  {
   "cell_type": "code",
   "execution_count": 50,
   "id": "99a197d9",
   "metadata": {},
   "outputs": [
    {
     "name": "stdout",
     "output_type": "stream",
     "text": [
      "br: 5301\n",
      "like: 2027\n",
      "good: 1761\n",
      "great: 1468\n",
      "taste: 1402\n",
      "one: 1334\n",
      "product: 1276\n",
      "flavor: 1201\n",
      "coffee: 1116\n",
      "chips: 1070\n"
     ]
    }
   ],
   "source": [
    "from collections import Counter\n",
    "\n",
    "# Tokenize and clean the text data\n",
    "\n",
    "def tokenize_and_clean(text):\n",
    "    \n",
    "    # Tokenize the text into words and convert to lower case\n",
    "    \n",
    "    words = nltk.word_tokenize(text.lower())\n",
    "\n",
    "    # Remove stopwords and non-alphabetic tokens\n",
    "    \n",
    "    stop_words = set(stopwords.words('english'))\n",
    "    words = [word for word in words if word.isalpha() and word not in stop_words]\n",
    "\n",
    "    return words\n",
    "\n",
    "# Apply tokenization and cleaning to the 'Text' column\n",
    "\n",
    "df['cleaned_text'] = df['Text'].apply(tokenize_and_clean)\n",
    "\n",
    "# Flatten the list of cleaned words\n",
    "\n",
    "cleaned_words = [word for sublist in df['cleaned_text'] for word in sublist]\n",
    "\n",
    "# Calculate word frequencies\n",
    "\n",
    "word_freq = Counter(cleaned_words)\n",
    "\n",
    "# Find the 10 most common word\n",
    "\n",
    "top_10_words = word_freq.most_common(10)\n",
    "\n",
    "# Display the top 10 most common words\n",
    "\n",
    "for word, freq in top_10_words:\n",
    "    print(f'{word}: {freq}')\n"
   ]
  },
  {
   "cell_type": "code",
   "execution_count": 51,
   "id": "10617abf",
   "metadata": {},
   "outputs": [
    {
     "name": "stdout",
     "output_type": "stream",
     "text": [
      "\n",
      "Review Length Distribution:\n"
     ]
    },
    {
     "data": {
      "image/png": "[encoded data removed]",
      "text/plain": [
       "<Figure size 432x288 with 1 Axes>"
      ]
     },
     "metadata": {
      "needs_background": "light"
     },
     "output_type": "display_data"
    }
   ],
   "source": [
    "# Distribution of Review Lengths\n",
    "\n",
    "df['review_length'] = df['Text'].apply(len)\n",
    "\n",
    "print(\"\\nReview Length Distribution:\")\n",
    "sns.histplot(data=df, x='review_length', kde=True)\n",
    "plt.title('Review Length Distribution')\n",
    "plt.show()"
   ]
  },
  {
   "cell_type": "code",
   "execution_count": 52,
   "id": "42158930",
   "metadata": {},
   "outputs": [
    {
     "data": {
      "image/png": "[encoded data removed]",
      "text/plain": [
       "<Figure size 432x288 with 1 Axes>"
      ]
     },
     "metadata": {
      "needs_background": "light"
     },
     "output_type": "display_data"
    }
   ],
   "source": [
    "# Time Series Analysis\n",
    "# Convert 'Time' column to datetime format\n",
    "\n",
    "df['Time'] = pd.to_datetime(df['Time'], unit='s')\n",
    "\n",
    "# Plot the number of reviews over time\n",
    "df.set_index('Time', inplace=True)\n",
    "df['Id'].resample('M').count().plot()\n",
    "plt.title('Number of Reviews Over Time')\n",
    "plt.xlabel('Date')\n",
    "plt.ylabel('Number of Reviews')\n",
    "plt.show()"
   ]
  },
  {
   "cell_type": "code",
   "execution_count": 53,
   "id": "d292c8c1",
   "metadata": {},
   "outputs": [
    {
     "data": {
      "image/png": "[encoded data removed]",
      "text/plain": [
       "<Figure size 720x360 with 1 Axes>"
      ]
     },
     "metadata": {
      "needs_background": "light"
     },
     "output_type": "display_data"
    }
   ],
   "source": [
    "#Bar plot for top 15 reviewed product\n",
    "\n",
    "top_n = 15\n",
    "top_products = df['ProductId'].value_counts().head(top_n)\n",
    "\n",
    "plt.figure(figsize=(10, 5))\n",
    "sns.barplot(x=top_products.index, y=top_products.values)\n",
    "plt.title(f'Top {top_n} Reviewed Products')\n",
    "plt.xlabel('Product ID')\n",
    "plt.ylabel('Number of Reviews')\n",
    "plt.xticks(rotation=90)\n",
    "plt.show()\n"
   ]
  },
  {
   "cell_type": "code",
   "execution_count": 54,
   "id": "59f25854",
   "metadata": {},
   "outputs": [
    {
     "data": {
      "image/png": "[encoded data removed]",
      "text/plain": [
       "<Figure size 576x432 with 1 Axes>"
      ]
     },
     "metadata": {
      "needs_background": "light"
     },
     "output_type": "display_data"
    }
   ],
   "source": [
    "# Box plot of Review Length by Score\n",
    "\n",
    "df['ReviewLength'] = df['Text'].apply(len)\n",
    "\n",
    "plt.figure(figsize=(8, 6))\n",
    "sns.boxplot(x='Score', y='ReviewLength', data=df)\n",
    "plt.title('Review Length by Score')\n",
    "plt.xlabel('Score')\n",
    "plt.ylabel('Review Length')\n",
    "plt.show()"
   ]
  },
  {
   "cell_type": "code",
   "execution_count": 55,
   "id": "c0ee338a",
   "metadata": {},
   "outputs": [],
   "source": [
    "# Import VADER Sentiment Intensity Analyzer\n",
    "\n",
    "from nltk.sentiment import SentimentIntensityAnalyzer\n",
    "from tqdm.notebook import tqdm\n",
    "\n",
    "sia = SentimentIntensityAnalyzer()\n"
   ]
  },
  {
   "cell_type": "code",
   "execution_count": 56,
   "id": "5230d8b1",
   "metadata": {},
   "outputs": [
    {
     "data": {
      "application/vnd.jupyter.widget-view+json": {
       "model_id": "f78ed84627cc4aa1b2670d64c43ac0c2",
       "version_major": 2,
       "version_minor": 0
      },
      "text/plain": [
       "  0%|          | 0/5000 [00:00<?, ?it/s]"
      ]
     },
     "metadata": {},
     "output_type": "display_data"
    }
   ],
   "source": [
    "# Run the Polarity Score on the First 5000 Reviews Dataset\n",
    "\n",
    "res = {}\n",
    "for i, row in tqdm(df.iterrows(), total=len(df)):\n",
    "    text = row['Text']\n",
    "    myid = row['Id']\n",
    "    res[myid] = sia.polarity_scores(text)"
   ]
  },
  {
   "cell_type": "code",
   "execution_count": 57,
   "id": "036ebfe3",
   "metadata": {},
   "outputs": [],
   "source": [
    "vaders = pd.DataFrame(res).T\n",
    "vaders = vaders.reset_index().rename(columns={'index': 'Id'})\n",
    "vaders = vaders.merge(df, how='left')"
   ]
  },
  {
   "cell_type": "code",
   "execution_count": 58,
   "id": "07da33c8",
   "metadata": {},
   "outputs": [
    {
     "data": {
      "text/html": [
       "<div>\n",
       "<style scoped>\n",
       "    .dataframe tbody tr th:only-of-type {\n",
       "        vertical-align: middle;\n",
       "    }\n",
       "\n",
       "    .dataframe tbody tr th {\n",
       "        vertical-align: top;\n",
       "    }\n",
       "\n",
       "    .dataframe thead th {\n",
       "        text-align: right;\n",
       "    }\n",
       "</style>\n",
       "<table border=\"1\" class=\"dataframe\">\n",
       "  <thead>\n",
       "    <tr style=\"text-align: right;\">\n",
       "      <th></th>\n",
       "      <th>Id</th>\n",
       "      <th>neg</th>\n",
       "      <th>neu</th>\n",
       "      <th>pos</th>\n",
       "      <th>compound</th>\n",
       "      <th>ProductId</th>\n",
       "      <th>UserId</th>\n",
       "      <th>ProfileName</th>\n",
       "      <th>HelpfulnessNumerator</th>\n",
       "      <th>HelpfulnessDenominator</th>\n",
       "      <th>Score</th>\n",
       "      <th>Summary</th>\n",
       "      <th>Text</th>\n",
       "      <th>cleaned_text</th>\n",
       "      <th>review_length</th>\n",
       "      <th>ReviewLength</th>\n",
       "    </tr>\n",
       "  </thead>\n",
       "  <tbody>\n",
       "    <tr>\n",
       "      <th>0</th>\n",
       "      <td>1</td>\n",
       "      <td>0.000</td>\n",
       "      <td>0.695</td>\n",
       "      <td>0.305</td>\n",
       "      <td>0.9441</td>\n",
       "      <td>B001E4KFG0</td>\n",
       "      <td>A3SGXH7AUHU8GW</td>\n",
       "      <td>delmartian</td>\n",
       "      <td>1</td>\n",
       "      <td>1</td>\n",
       "      <td>5</td>\n",
       "      <td>Good Quality Dog Food</td>\n",
       "      <td>I have bought several of the Vitality canned d...</td>\n",
       "      <td>[bought, several, vitality, canned, dog, food,...</td>\n",
       "      <td>263</td>\n",
       "      <td>263</td>\n",
       "    </tr>\n",
       "    <tr>\n",
       "      <th>1</th>\n",
       "      <td>2</td>\n",
       "      <td>0.138</td>\n",
       "      <td>0.862</td>\n",
       "      <td>0.000</td>\n",
       "      <td>-0.5664</td>\n",
       "      <td>B00813GRG4</td>\n",
       "      <td>A1D87F6ZCVE5NK</td>\n",
       "      <td>dll pa</td>\n",
       "      <td>0</td>\n",
       "      <td>0</td>\n",
       "      <td>1</td>\n",
       "      <td>Not as Advertised</td>\n",
       "      <td>Product arrived labeled as Jumbo Salted Peanut...</td>\n",
       "      <td>[product, arrived, labeled, jumbo, salted, pea...</td>\n",
       "      <td>190</td>\n",
       "      <td>190</td>\n",
       "    </tr>\n",
       "    <tr>\n",
       "      <th>2</th>\n",
       "      <td>3</td>\n",
       "      <td>0.091</td>\n",
       "      <td>0.754</td>\n",
       "      <td>0.155</td>\n",
       "      <td>0.8265</td>\n",
       "      <td>B000LQOCH0</td>\n",
       "      <td>ABXLMWJIXXAIN</td>\n",
       "      <td>Natalia Corres \"Natalia Corres\"</td>\n",
       "      <td>1</td>\n",
       "      <td>1</td>\n",
       "      <td>4</td>\n",
       "      <td>\"Delight\" says it all</td>\n",
       "      <td>This is a confection that has been around a fe...</td>\n",
       "      <td>[confection, around, centuries, light, pillowy...</td>\n",
       "      <td>509</td>\n",
       "      <td>509</td>\n",
       "    </tr>\n",
       "    <tr>\n",
       "      <th>3</th>\n",
       "      <td>4</td>\n",
       "      <td>0.000</td>\n",
       "      <td>1.000</td>\n",
       "      <td>0.000</td>\n",
       "      <td>0.0000</td>\n",
       "      <td>B000UA0QIQ</td>\n",
       "      <td>A395BORC6FGVXV</td>\n",
       "      <td>Karl</td>\n",
       "      <td>3</td>\n",
       "      <td>3</td>\n",
       "      <td>2</td>\n",
       "      <td>Cough Medicine</td>\n",
       "      <td>If you are looking for the secret ingredient i...</td>\n",
       "      <td>[looking, secret, ingredient, robitussin, beli...</td>\n",
       "      <td>219</td>\n",
       "      <td>219</td>\n",
       "    </tr>\n",
       "    <tr>\n",
       "      <th>4</th>\n",
       "      <td>5</td>\n",
       "      <td>0.000</td>\n",
       "      <td>0.552</td>\n",
       "      <td>0.448</td>\n",
       "      <td>0.9468</td>\n",
       "      <td>B006K2ZZ7K</td>\n",
       "      <td>A1UQRSCLF8GW1T</td>\n",
       "      <td>Michael D. Bigham \"M. Wassir\"</td>\n",
       "      <td>0</td>\n",
       "      <td>0</td>\n",
       "      <td>5</td>\n",
       "      <td>Great taffy</td>\n",
       "      <td>Great taffy at a great price.  There was a wid...</td>\n",
       "      <td>[great, taffy, great, price, wide, assortment,...</td>\n",
       "      <td>140</td>\n",
       "      <td>140</td>\n",
       "    </tr>\n",
       "  </tbody>\n",
       "</table>\n",
       "</div>"
      ],
      "text/plain": [
       "   Id    neg    neu    pos  compound   ProductId          UserId  \\\n",
       "0   1  0.000  0.695  0.305    0.9441  B001E4KFG0  A3SGXH7AUHU8GW   \n",
       "1   2  0.138  0.862  0.000   -0.5664  B00813GRG4  A1D87F6ZCVE5NK   \n",
       "2   3  0.091  0.754  0.155    0.8265  B000LQOCH0   ABXLMWJIXXAIN   \n",
       "3   4  0.000  1.000  0.000    0.0000  B000UA0QIQ  A395BORC6FGVXV   \n",
       "4   5  0.000  0.552  0.448    0.9468  B006K2ZZ7K  A1UQRSCLF8GW1T   \n",
       "\n",
       "                       ProfileName  HelpfulnessNumerator  \\\n",
       "0                       delmartian                     1   \n",
       "1                           dll pa                     0   \n",
       "2  Natalia Corres \"Natalia Corres\"                     1   \n",
       "3                             Karl                     3   \n",
       "4    Michael D. Bigham \"M. Wassir\"                     0   \n",
       "\n",
       "   HelpfulnessDenominator  Score                Summary  \\\n",
       "0                       1      5  Good Quality Dog Food   \n",
       "1                       0      1      Not as Advertised   \n",
       "2                       1      4  \"Delight\" says it all   \n",
       "3                       3      2         Cough Medicine   \n",
       "4                       0      5            Great taffy   \n",
       "\n",
       "                                                Text  \\\n",
       "0  I have bought several of the Vitality canned d...   \n",
       "1  Product arrived labeled as Jumbo Salted Peanut...   \n",
       "2  This is a confection that has been around a fe...   \n",
       "3  If you are looking for the secret ingredient i...   \n",
       "4  Great taffy at a great price.  There was a wid...   \n",
       "\n",
       "                                        cleaned_text  review_length  \\\n",
       "0  [bought, several, vitality, canned, dog, food,...            263   \n",
       "1  [product, arrived, labeled, jumbo, salted, pea...            190   \n",
       "2  [confection, around, centuries, light, pillowy...            509   \n",
       "3  [looking, secret, ingredient, robitussin, beli...            219   \n",
       "4  [great, taffy, great, price, wide, assortment,...            140   \n",
       "\n",
       "   ReviewLength  \n",
       "0           263  \n",
       "1           190  \n",
       "2           509  \n",
       "3           219  \n",
       "4           140  "
      ]
     },
     "execution_count": 58,
     "metadata": {},
     "output_type": "execute_result"
    }
   ],
   "source": [
    "# Now we Have Sentiment Score and Metadata\n",
    "\n",
    "vaders.head()"
   ]
  },
  {
   "cell_type": "code",
   "execution_count": 59,
   "id": "8a10d158",
   "metadata": {},
   "outputs": [
    {
     "data": {
      "image/png": "[encoded data removed]",
      "text/plain": [
       "<Figure size 432x288 with 1 Axes>"
      ]
     },
     "metadata": {
      "needs_background": "light"
     },
     "output_type": "display_data"
    }
   ],
   "source": [
    "# Plotting the result in Compound Score\n",
    "\n",
    "\n",
    "\n",
    "ax = sns.barplot(data=vaders, x='Score', y='compound')\n",
    "ax.set_title('Compound Score by Star Review')\n",
    "plt.show()"
   ]
  },
  {
   "cell_type": "code",
   "execution_count": 60,
   "id": "f729e74e",
   "metadata": {},
   "outputs": [
    {
     "data": {
      "image/png": "[encoded data removed]",
      "text/plain": [
       "<Figure size 864x216 with 3 Axes>"
      ]
     },
     "metadata": {
      "needs_background": "light"
     },
     "output_type": "display_data"
    }
   ],
   "source": [
    "# Plotting in Positive, Neutral and Negative Score\n",
    "\n",
    "fig, axs = plt.subplots(1, 3, figsize=(12, 3))\n",
    "sns.barplot(data=vaders, x='Score', y='pos', ax=axs[0])\n",
    "sns.barplot(data=vaders, x='Score', y='neu', ax=axs[1])\n",
    "sns.barplot(data=vaders, x='Score', y='neg', ax=axs[2])\n",
    "axs[0].set_title('Positive')\n",
    "axs[1].set_title('Neutral')\n",
    "axs[2].set_title('Negative')\n",
    "plt.tight_layout()\n",
    "plt.show()"
   ]
  },
  {
   "cell_type": "markdown",
   "id": "09703a70",
   "metadata": {},
   "source": [
    "### Logistic Regression Model"
   ]
  },
  {
   "cell_type": "code",
   "execution_count": 61,
   "id": "3699b510",
   "metadata": {},
   "outputs": [
    {
     "name": "stdout",
     "output_type": "stream",
     "text": [
      "Accuracy: 0.856\n",
      "              precision    recall  f1-score   support\n",
      "\n",
      "    Negative       0.77      0.52      0.62       225\n",
      "    Positive       0.87      0.95      0.91       775\n",
      "\n",
      "    accuracy                           0.86      1000\n",
      "   macro avg       0.82      0.74      0.76      1000\n",
      "weighted avg       0.85      0.86      0.85      1000\n",
      "\n"
     ]
    }
   ],
   "source": [
    "from sklearn.model_selection import train_test_split\n",
    "from sklearn.feature_extraction.text import CountVectorizer\n",
    "from sklearn.linear_model import LogisticRegression\n",
    "from sklearn.metrics import accuracy_score, classification_report\n",
    "\n",
    "# Define labels based on star scores (4 or 5 stars as positive, 1 or 2 stars as negative)\n",
    "\n",
    "df['Sentiment'] = df['Score'].apply(lambda x: 'Positive' if x >= 4 else 'Negative')\n",
    "\n",
    "# Split the data into training and testing sets\n",
    "\n",
    "X = df['Summary']\n",
    "y = df['Sentiment']\n",
    "X_train, X_test, y_train, y_test = train_test_split(X, y, test_size=0.2, random_state=42)\n",
    "\n",
    "# Vectorize the text data using CountVectorizer\n",
    "\n",
    "vectorizer = CountVectorizer()\n",
    "X_train_vec = vectorizer.fit_transform(X_train)\n",
    "X_test_vec = vectorizer.transform(X_test)\n",
    "\n",
    "# Train a logistic regression model\n",
    "\n",
    "model = LogisticRegression()\n",
    "model.fit(X_train_vec, y_train)\n",
    "\n",
    "# Make predictions\n",
    "\n",
    "y_pred = model.predict(X_test_vec)\n",
    "\n",
    "# Evaluate the model\n",
    "\n",
    "accuracy = accuracy_score(y_test, y_pred)\n",
    "classification_rep = classification_report(y_test, y_pred)\n",
    "\n",
    "print(f'Accuracy: {accuracy}')\n",
    "print(classification_rep)"
   ]
  },
  {
   "cell_type": "markdown",
   "id": "6a354265",
   "metadata": {},
   "source": [
    "### Latent Dirichlet Allocation (LDA)"
   ]
  },
  {
   "cell_type": "code",
   "execution_count": 63,
   "id": "900a1a5a",
   "metadata": {},
   "outputs": [
    {
     "name": "stdout",
     "output_type": "stream",
     "text": [
      "Topic 0: 0.077*\"tea\" + 0.037*\"favorite\" + 0.036*\"my\" + 0.028*\"bad\" + 0.025*\"not\" + 0.024*\"cookies\" + 0.014*\"a\" + 0.014*\"new\" + 0.014*\"green\" + 0.013*\"do\"\n",
      "Topic 1: 0.212*\"good\" + 0.050*\"excellent\" + 0.042*\"not\" + 0.026*\"stuff\" + 0.023*\"this\" + 0.021*\"just\" + 0.020*\"really\" + 0.018*\"i\" + 0.018*\"coffee\" + 0.017*\"pretty\"\n",
      "Topic 2: 0.056*\"tasty\" + 0.024*\"easy\" + 0.023*\"smooth\" + 0.021*\"fresh\" + 0.015*\"white\" + 0.015*\"baby\" + 0.014*\"one\" + 0.013*\"taste\" + 0.012*\"ca\" + 0.012*\"worst\"\n",
      "Topic 3: 0.102*\"love\" + 0.033*\"it\" + 0.023*\"these\" + 0.021*\"dogs\" + 0.017*\"sugar\" + 0.015*\"muffins\" + 0.014*\"money\" + 0.013*\"licorice\" + 0.013*\"english\" + 0.012*\"rich\"\n",
      "Topic 4: 0.217*\"great\" + 0.072*\"product\" + 0.047*\"coffee\" + 0.031*\"price\" + 0.029*\"a\" + 0.026*\"taste\" + 0.020*\"decaf\" + 0.014*\"popcorn\" + 0.011*\"ok\" + 0.010*\"value\"\n",
      "Topic 5: 0.049*\"great\" + 0.049*\"hot\" + 0.036*\"like\" + 0.030*\"chocolate\" + 0.028*\"cocoa\" + 0.027*\"snack\" + 0.026*\"awesome\" + 0.023*\"tasting\" + 0.016*\"tastes\" + 0.012*\"you\"\n",
      "Topic 6: 0.029*\"wonderful\" + 0.027*\"yum\" + 0.027*\"better\" + 0.024*\"works\" + 0.022*\"much\" + 0.021*\"fantastic\" + 0.020*\"no\" + 0.017*\"pancake\" + 0.015*\"not\" + 0.013*\"bit\"\n",
      "Topic 7: 0.112*\"best\" + 0.068*\"dog\" + 0.061*\"food\" + 0.053*\"delicious\" + 0.044*\"the\" + 0.040*\"free\" + 0.034*\"gluten\" + 0.028*\"ever\" + 0.022*\"perfect\" + 0.022*\"bisquick\"\n",
      "Topic 8: 0.071*\"yummy\" + 0.055*\"great\" + 0.054*\"pancakes\" + 0.026*\"gf\" + 0.019*\"makes\" + 0.018*\"gift\" + 0.017*\"make\" + 0.014*\"well\" + 0.014*\"work\" + 0.012*\"sticks\"\n",
      "Topic 9: 0.065*\"chips\" + 0.061*\"i\" + 0.050*\"very\" + 0.026*\"sweet\" + 0.026*\"love\" + 0.019*\"sauce\" + 0.016*\"small\" + 0.013*\"pop\" + 0.011*\"wow\" + 0.009*\"tasted\"\n",
      "                                                  Summary  topic\n",
      "Time                                                            \n",
      "2011-04-27                          Good Quality Dog Food      7\n",
      "2012-09-07                              Not as Advertised      1\n",
      "2008-08-18                          \"Delight\" says it all      8\n",
      "2011-06-13                                 Cough Medicine      0\n",
      "2012-10-21                                    Great taffy      8\n",
      "2012-07-12                                     Nice Taffy      7\n",
      "2012-06-20  Great!  Just as good as the expensive brands!      1\n",
      "2012-05-03                         Wonderful, tasty taffy      2\n",
      "2011-11-23                                     Yay Barley      9\n",
      "2012-10-26                               Healthy Dog Food      7\n"
     ]
    }
   ],
   "source": [
    "import pandas as pd\n",
    "import numpy as np\n",
    "import gensim\n",
    "from gensim import corpora\n",
    "from gensim.models import LdaModel\n",
    "import nltk\n",
    "from nltk.corpus import stopwords\n",
    "from nltk.tokenize import word_tokenize\n",
    "\n",
    "# Data Preprocessing\n",
    "\n",
    "stop_words = set(stopwords.words('english'))\n",
    "\n",
    "# Tokenize and clean the 'Summary' column\n",
    "\n",
    "def preprocess_text(text):\n",
    "    tokens = word_tokenize(text)\n",
    "    tokens = [word for word in tokens if word.isalnum()]\n",
    "    tokens = [word.lower() for word in tokens if word not in stop_words]\n",
    "    return tokens\n",
    "\n",
    "# Apply preprocessing to the 'Summary' column\n",
    "\n",
    "df['cleaned_summary'] = df['Summary'].apply(preprocess_text)\n",
    "\n",
    "# Create a dictionary and a corpus\n",
    "\n",
    "dictionary = corpora.Dictionary(df['cleaned_summary'])\n",
    "corpus = [dictionary.doc2bow(text) for text in df['cleaned_summary']]\n",
    "\n",
    "# LDA Model Training\n",
    "\n",
    "num_topics = 10\n",
    "lda_model = LdaModel(corpus, num_topics=num_topics, id2word=dictionary, passes=15)\n",
    "\n",
    "# Display Topics and Associated Words\n",
    "\n",
    "topics = lda_model.show_topics(num_topics=num_topics, num_words=10)\n",
    "for topic in topics:\n",
    "    print(f\"Topic {topic[0]}: {topic[1]}\")\n",
    "\n",
    "# Assign Topics to Reviews\n",
    "\n",
    "df['topic'] = [max(lda_model[corpus[i]], key=lambda x: x[1])[0] for i in range(len(df))]\n",
    "\n",
    "# Display the assigned topics for some reviews\n",
    "\n",
    "print(df[['Summary', 'topic']].head(10))"
   ]
  },
  {
   "cell_type": "markdown",
   "id": "7f13abfd",
   "metadata": {},
   "source": [
    "###  Feature Importance Analysis"
   ]
  },
  {
   "cell_type": "code",
   "execution_count": 64,
   "id": "354ca13f",
   "metadata": {},
   "outputs": [
    {
     "name": "stdout",
     "output_type": "stream",
     "text": [
      "Top words for positive sentiment:\n",
      "['excellent', 'best', 'awesome', 'great', 'yummy', 'love', 'delicious', 'fantastic', 'yum', 'perfect']\n",
      "Top words for negative sentiment:\n",
      "['tangy', 'beat', 'packages', 'pricey', 'make', 'holiday', 'foods', 'eat', 'different', 'pancake']\n"
     ]
    }
   ],
   "source": [
    "# Vectorize the text data using CountVectorizer\n",
    "\n",
    "vectorizer = CountVectorizer(max_features=1000, stop_words='english')\n",
    "X = vectorizer.fit_transform(df['Summary'])\n",
    "\n",
    "# Define labels based on star scores \n",
    "\n",
    "y = df['Score'].apply(lambda x: 1 if x >= 4 else 0)\n",
    "\n",
    "# Train a logistic regression model\n",
    "\n",
    "model = LogisticRegression()\n",
    "model.fit(X, y)\n",
    "\n",
    "# Get the coefficients (importance) of words\n",
    "\n",
    "feature_names = vectorizer.get_feature_names()\n",
    "coefficients = model.coef_[0]\n",
    "\n",
    "# Sort the words by their coefficients to find the most important words\n",
    "\n",
    "word_importance = sorted(list(zip(feature_names, coefficients)), key=lambda x: x[1], reverse=True)\n",
    "\n",
    "# Print the most important words for positive and negative sentiment\n",
    "\n",
    "positive_words = [word for word, coef in word_importance if coef > 0]\n",
    "negative_words = [word for word, coef in word_importance if coef < 0]\n",
    "\n",
    "print(\"Top words for positive sentiment:\")\n",
    "print(positive_words[:10])\n",
    "\n",
    "print(\"Top words for negative sentiment:\")\n",
    "print(negative_words[:10])"
   ]
  },
  {
   "cell_type": "markdown",
   "id": "534a99f6",
   "metadata": {},
   "source": [
    "### Combine Random Forest and Gradient Boosting"
   ]
  },
  {
   "cell_type": "code",
   "execution_count": 65,
   "id": "cb66c73b",
   "metadata": {},
   "outputs": [
    {
     "name": "stdout",
     "output_type": "stream",
     "text": [
      "Random Forest Classifier Results:\n",
      "Accuracy: 0.812\n",
      "              precision    recall  f1-score   support\n",
      "\n",
      "           0       0.60      0.49      0.54       225\n",
      "           1       0.86      0.90      0.88       775\n",
      "\n",
      "    accuracy                           0.81      1000\n",
      "   macro avg       0.73      0.70      0.71      1000\n",
      "weighted avg       0.80      0.81      0.81      1000\n",
      "\n",
      "\n",
      "Gradient Boosting Classifier Results:\n",
      "Accuracy: 0.805\n",
      "              precision    recall  f1-score   support\n",
      "\n",
      "           0       0.86      0.16      0.27       225\n",
      "           1       0.80      0.99      0.89       775\n",
      "\n",
      "    accuracy                           0.81      1000\n",
      "   macro avg       0.83      0.58      0.58      1000\n",
      "weighted avg       0.81      0.81      0.75      1000\n",
      "\n"
     ]
    }
   ],
   "source": [
    "from sklearn.ensemble import RandomForestClassifier, GradientBoostingClassifier\n",
    "from sklearn.model_selection import train_test_split\n",
    "from sklearn.metrics import accuracy_score, classification_report\n",
    "\n",
    "# Vectorize the text data using CountVectorizer\n",
    "\n",
    "vectorizer = CountVectorizer(max_features=1000, stop_words='english')\n",
    "X = vectorizer.fit_transform(df['Summary'])\n",
    "\n",
    "# Define labels based on star scores\n",
    "\n",
    "y = df['Score'].apply(lambda x: 1 if x >= 4 else 0)\n",
    "\n",
    "# Split the data into training and testing sets\n",
    "\n",
    "X_train, X_test, y_train, y_test = train_test_split(X, y, test_size=0.2, random_state=42)\n",
    "\n",
    "# Train a Random Forest classifier\n",
    "\n",
    "rf_model = RandomForestClassifier()\n",
    "rf_model.fit(X_train, y_train)\n",
    "\n",
    "# Train a Gradient Boosting classifier\n",
    "\n",
    "gb_model = GradientBoostingClassifier()\n",
    "gb_model.fit(X_train, y_train)\n",
    "\n",
    "# Make predictions using Random Forest\n",
    "\n",
    "rf_predictions = rf_model.predict(X_test)\n",
    "\n",
    "# Make predictions using Gradient Boosting\n",
    "\n",
    "gb_predictions = gb_model.predict(X_test)\n",
    "\n",
    "# Evaluate the Random Forest model\n",
    "\n",
    "rf_accuracy = accuracy_score(y_test, rf_predictions)\n",
    "rf_classification_rep = classification_report(y_test, rf_predictions)\n",
    "\n",
    "# Evaluate the Gradient Boosting model\n",
    "\n",
    "gb_accuracy = accuracy_score(y_test, gb_predictions)\n",
    "gb_classification_rep = classification_report(y_test, gb_predictions)\n",
    "\n",
    "print(\"Random Forest Classifier Results:\")\n",
    "print(f'Accuracy: {rf_accuracy}')\n",
    "print(rf_classification_rep)\n",
    "\n",
    "print(\"\\nGradient Boosting Classifier Results:\")\n",
    "print(f'Accuracy: {gb_accuracy}')\n",
    "print(gb_classification_rep)"
   ]
  },
  {
   "cell_type": "markdown",
   "id": "fff078c9",
   "metadata": {},
   "source": [
    "### VADER Sentiment Analysis"
   ]
  },
  {
   "cell_type": "code",
   "execution_count": 67,
   "id": "cc02ebb2",
   "metadata": {},
   "outputs": [
    {
     "name": "stdout",
     "output_type": "stream",
     "text": [
      "VADER Sentiment Analysis Results:\n",
      "Accuracy: 0.8216\n",
      "              precision    recall  f1-score   support\n",
      "\n",
      "           0       0.78      0.32      0.45      1154\n",
      "           1       0.83      0.97      0.89      3846\n",
      "\n",
      "    accuracy                           0.82      5000\n",
      "   macro avg       0.80      0.65      0.67      5000\n",
      "weighted avg       0.81      0.82      0.79      5000\n",
      "\n"
     ]
    }
   ],
   "source": [
    "# Vectorize the text data using CountVectorizer\n",
    "\n",
    "vectorizer = CountVectorizer(max_features=1000, stop_words='english')\n",
    "X = vectorizer.fit_transform(df['Summary'])\n",
    "\n",
    "# Define labels based on star scores (e.g., 4 or 5 stars as positive, 1 or 2 stars as negative)\n",
    "\n",
    "y = df['Score'].apply(lambda x: 1 if x >= 4 else 0)\n",
    "\n",
    "# Split the data into training and testing sets\n",
    "\n",
    "X_train, X_test, y_train, y_test = train_test_split(X, y, test_size=0.2, random_state=42)\n",
    "\n",
    "# Train a VADER sentiment analyzer\n",
    "\n",
    "analyzer = SentimentIntensityAnalyzer()\n",
    "\n",
    "# Calculate VADER sentiment scores for the 'Summary' column\n",
    "\n",
    "vader_scores = df['Summary'].apply(lambda x: analyzer.polarity_scores(x))\n",
    "\n",
    "# Extract the compound score from VADER results as the sentiment score\n",
    "\n",
    "vader_sentiment = vader_scores.apply(lambda x: 1 if x['compound'] >= 0 else 0)\n",
    "\n",
    "# Evaluate the accuracy of the VADER sentiment\n",
    "\n",
    "vader_accuracy = accuracy_score(y, vader_sentiment)\n",
    "vader_classification_rep = classification_report(y, vader_sentiment)\n",
    "\n",
    "print(\"VADER Sentiment Analysis Results:\")\n",
    "print(f'Accuracy: {vader_accuracy}')\n",
    "print(vader_classification_rep)"
   ]
  },
  {
   "cell_type": "markdown",
   "id": "d139cbc8",
   "metadata": {},
   "source": [
    "### Visualization of Result Combination\n"
   ]
  },
  {
   "cell_type": "code",
   "execution_count": 68,
   "id": "ac2c76b1",
   "metadata": {},
   "outputs": [
    {
     "data": {
      "image/png": "[encoded data removed]",
      "text/plain": [
       "<Figure size 576x432 with 1 Axes>"
      ]
     },
     "metadata": {
      "needs_background": "light"
     },
     "output_type": "display_data"
    },
    {
     "data": {
      "image/png": "[encoded data removed]",
      "text/plain": [
       "<Figure size 576x432 with 1 Axes>"
      ]
     },
     "metadata": {
      "needs_background": "light"
     },
     "output_type": "display_data"
    },
    {
     "data": {
      "image/png": "[encoded data removed]",
      "text/plain": [
       "<Figure size 576x432 with 1 Axes>"
      ]
     },
     "metadata": {
      "needs_background": "light"
     },
     "output_type": "display_data"
    }
   ],
   "source": [
    "# Vectorize the text data using CountVectorizer\n",
    "\n",
    "vectorizer = CountVectorizer(max_features=1000, stop_words='english')\n",
    "X = vectorizer.fit_transform(df['Summary'])\n",
    "\n",
    "# Calculate VADER sentiment scores for the 'Summary' column\n",
    "\n",
    "analyzer = SentimentIntensityAnalyzer()\n",
    "vader_scores = df['Summary'].apply(lambda x: analyzer.polarity_scores(x))\n",
    "df['VADER Compound Score'] = vader_scores.apply(lambda x: x['compound'])\n",
    "\n",
    "# Plot sentiment distribution\n",
    "\n",
    "plt.figure(figsize=(8, 6))\n",
    "sns.histplot(df['VADER Compound Score'], kde=True, color='skyblue')\n",
    "plt.title('Sentiment Distribution')\n",
    "plt.xlabel('VADER Compound Score')\n",
    "plt.ylabel('Frequency')\n",
    "plt.show()\n",
    "\n",
    "# Analyze sentiment based on star ratings\n",
    "\n",
    "positive_reviews = df[df['Score'] >= 4]\n",
    "negative_reviews = df[df['Score'] <= 2]\n",
    "\n",
    "# Plot sentiment distribution for positive reviews\n",
    "\n",
    "plt.figure(figsize=(8, 6))\n",
    "sns.histplot(positive_reviews['VADER Compound Score'], kde=True, color='green')\n",
    "plt.title('Sentiment Distribution for Positive Reviews')\n",
    "plt.xlabel('VADER Compound Score')\n",
    "plt.ylabel('Frequency')\n",
    "plt.show()\n",
    "\n",
    "# Plot sentiment distribution for negative reviews\n",
    "\n",
    "plt.figure(figsize=(8, 6))\n",
    "sns.histplot(negative_reviews['VADER Compound Score'], kde=True, color='red')\n",
    "plt.title('Sentiment Distribution for Negative Reviews')\n",
    "plt.xlabel('VADER Compound Score')\n",
    "plt.ylabel('Frequency')\n",
    "plt.show()\n",
    "\n",
    "# Visualize common themes in reviews using previously trained LDA model\n",
    "\n",
    "# Interpret of the findings in the next section\n"
   ]
  },
  {
   "cell_type": "markdown",
   "id": "86e89ecd",
   "metadata": {},
   "source": [
    "### Final Result Interpretation"
   ]
  },
  {
   "cell_type": "code",
   "execution_count": null,
   "id": "83241a93",
   "metadata": {},
   "outputs": [],
   "source": []
  }
 ],
 "metadata": {
  "kernelspec": {
   "display_name": "Python 3 (ipykernel)",
   "language": "python",
   "name": "python3"
  },
  "language_info": {
   "codemirror_mode": {
    "name": "ipython",
    "version": 3
   },
   "file_extension": ".py",
   "mimetype": "text/x-python",
   "name": "python",
   "nbconvert_exporter": "python",
   "pygments_lexer": "ipython3",
   "version": "3.9.7"
  }
 },
 "nbformat": 4,
 "nbformat_minor": 5
}
